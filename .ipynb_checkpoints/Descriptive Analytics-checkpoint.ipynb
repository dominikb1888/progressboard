{
 "cells": [
  {
   "cell_type": "code",
   "execution_count": null,
   "id": "95471360",
   "metadata": {},
   "outputs": [],
   "source": [
    "import pandas as pd\n",
    "import pyarrow as pa\n",
    "import redis\n",
    "import pickle\n",
    "\n",
    "from itertools import zip_longest\n",
    "\n",
    "r = redis.Redis(host='localhost', port=6379, db=0)\n",
    "\n",
    "context = pa.default_serialization_context()\n",
    "context.deserialize(r.get(\"key\"))"
   ]
  },
  {
   "cell_type": "code",
   "execution_count": null,
   "id": "32c40cc2",
   "metadata": {},
   "outputs": [],
   "source": [
    "dir(r)"
   ]
  },
  {
   "cell_type": "code",
   "execution_count": null,
   "id": "bb58a87f",
   "metadata": {},
   "outputs": [],
   "source": [
    "keys = r.keys('http_cache*')\n",
    "keys[:10]"
   ]
  },
  {
   "cell_type": "code",
   "execution_count": null,
   "id": "5f3e0bf7",
   "metadata": {},
   "outputs": [],
   "source": [
    "data = []\n",
    "for key in keys:\n",
    "    data.append(pickle.loads(r.get(key)))"
   ]
  },
  {
   "cell_type": "code",
   "execution_count": null,
   "id": "73db7721",
   "metadata": {},
   "outputs": [],
   "source": [
    "df = pd.DataFrame(data)\n",
    "df"
   ]
  }
 ],
 "metadata": {
  "kernelspec": {
   "display_name": "Python 3 (ipykernel)",
   "language": "python",
   "name": "python3"
  },
  "language_info": {
   "codemirror_mode": {
    "name": "ipython",
    "version": 3
   },
   "file_extension": ".py",
   "mimetype": "text/x-python",
   "name": "python",
   "nbconvert_exporter": "python",
   "pygments_lexer": "ipython3",
   "version": "3.10.10"
  }
 },
 "nbformat": 4,
 "nbformat_minor": 5
}
